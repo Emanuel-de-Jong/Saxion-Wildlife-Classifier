{
 "cells": [
  {
   "cell_type": "markdown",
   "metadata": {},
   "source": [
    "# Count all animals in the JSON files\n",
    "You can chose if you want to have it per camera or not"
   ]
  },
  {
   "cell_type": "code",
   "execution_count": null,
   "metadata": {},
   "outputs": [],
   "source": [
    "import json\n",
    "import csv\n",
    "import os\n",
    "import re\n",
    "\n",
    "annotation_location = os.path.join(\"stats\") # Don't forget to put the path to the folder here!\n",
    "\n",
    "def filter_images(json_folder, per_camera=False):\n",
    "    animal_dict = {} # To memorize all animals that we had\n",
    "    animal_id_dict = {} # Dict with the id per animal\n",
    "    unknown_dict = {}\n",
    "    for root, _, files in os.walk(json_folder):\n",
    "        for file in files:\n",
    "            if not file.endswith('.json'):\n",
    "                continue\n",
    "            camera = None\n",
    "            try:\n",
    "                camera = re.findall(r'((?:awc|gkz)\\d{2})', file, flags=re.IGNORECASE)[0].upper()\n",
    "            except:\n",
    "                print(f'No camera found for -> {file}')\n",
    "                camera = 'UNK' # UNK is an abbreviation for unknown\n",
    "                if camera in unknown_dict.keys():\n",
    "                    unknown_dict[camera] += 1\n",
    "                else:\n",
    "                    unknown_dict[camera] = 0\n",
    "                camera = f'{camera}_{unknown_dict[camera]}'\n",
    "            print(f'Camera -> {camera}')\n",
    "\n",
    "            temp_dict = {}\n",
    "            data = None\n",
    "            path = os.path.join(root, file)\n",
    "            print(f'Processing -> {path}')\n",
    "\n",
    "            # Read JSON file\n",
    "            with open(path, 'r') as f:\n",
    "                data = json.load(f)\n",
    "\n",
    "            # Add animals, missing to the animal and animal id dictionary\n",
    "            catagory_data = data['categories']\n",
    "            skip_key = None # We don't want to count the miscellaneous category!\n",
    "            for item in catagory_data:\n",
    "                animal = re.sub(r'\\s+', '_' , item['name'])\n",
    "                id = item['id']\n",
    "                if skip_key == None and animal == 'miscellaneous':\n",
    "                    skip_key = id\n",
    "                    print(f'Skip key is: {skip_key}')\n",
    "\n",
    "                if animal not in animal_dict.keys() and animal != 'miscellaneous':\n",
    "                    if per_camera:\n",
    "                        temp_dict[animal] = 0\n",
    "                    else:\n",
    "                        animal_dict[animal] = 0\n",
    "                    animal_id_dict[id] = animal\n",
    "            \n",
    "            image_data = data['annotations']\n",
    "            for item in image_data:\n",
    "                if item['category_id'] != skip_key:\n",
    "                    if per_camera:\n",
    "                        temp_dict[animal_id_dict[item['category_id']]] += 1\n",
    "                    else:\n",
    "                        animal_dict[animal_id_dict[item['category_id']]] += 1\n",
    "            \n",
    "\n",
    "            if per_camera and (camera not in list(animal_dict.keys())):\n",
    "                animal_dict[camera] = temp_dict\n",
    "            elif per_camera:\n",
    "                keys = list(temp_dict.keys())\n",
    "                for key in keys:\n",
    "                    if key in list(animal_dict[camera].keys()):\n",
    "                        animal_dict[camera][key] += temp_dict[key]\n",
    "                    else:\n",
    "                        animal_dict[camera][key] = temp_dict[key]\n",
    "\n",
    "    return animal_dict"
   ]
  },
  {
   "cell_type": "markdown",
   "metadata": {},
   "source": [
    "## All animals, not per camera"
   ]
  },
  {
   "cell_type": "code",
   "execution_count": null,
   "metadata": {},
   "outputs": [],
   "source": [
    "print(annotation_location)\n",
    "result = filter_images(annotation_location)\n",
    "key_list = result.keys()\n",
    "\n",
    "result_list = []\n",
    "\n",
    "print(result)\n",
    "\n",
    "for key in key_list:\n",
    "    result_list.append((key, result[key]))\n",
    "    print(f'{key} -> {result[key]}')"
   ]
  },
  {
   "cell_type": "code",
   "execution_count": null,
   "metadata": {},
   "outputs": [],
   "source": [
    "output_location = os.path.join(annotation_location, \"annotation_result.csv\")\n",
    "header = [\"Animal\", \"Count\"]\n",
    "\n",
    "if os.path.exists(output_location):\n",
    "    os.remove(output_location)\n",
    "    print(f\"{output_location} has been removed.\")\n",
    "else:\n",
    "    print(f\"{output_location} does not exist. Proceeding to create a new file.\")\n",
    "\n",
    "with open(output_location, 'w', newline='') as file:\n",
    "     writer = csv.writer(file)\n",
    "     writer.writerow(header)\n",
    "     writer.writerows(result_list)"
   ]
  },
  {
   "cell_type": "markdown",
   "metadata": {},
   "source": [
    "## All animals, per camera"
   ]
  },
  {
   "cell_type": "code",
   "execution_count": null,
   "metadata": {},
   "outputs": [],
   "source": [
    "result = filter_images(annotation_location, per_camera=True)\n",
    "\n",
    "camera_list = result.keys()\n",
    "\n",
    "result_list = []\n",
    "\n",
    "for camera in camera_list:\n",
    "    temp_results = [camera]\n",
    "    key_list = result[camera].keys()\n",
    "    for key in key_list:\n",
    "        temp_results.append((key, result[camera][key]))\n",
    "        print(f'{camera}\\n\\t{key} -> {result[camera][key]}')\n",
    "    result_list.append((temp_results))"
   ]
  },
  {
   "cell_type": "code",
   "execution_count": null,
   "metadata": {},
   "outputs": [],
   "source": [
    "output_location = os.path.join(annotation_location, f\"per_camera_annotation_result.csv\")\n",
    "header = [\"Camera\", \"Animal\", \"Count\"]\n",
    "\n",
    "if os.path.exists(output_location):\n",
    "    os.remove(output_location)\n",
    "    print(f\"{output_location} has been removed.\")\n",
    "else:\n",
    "    print(f\"{output_location} does not exist. Proceeding to create a new file.\")\n",
    "\n",
    "with open(output_location, 'w', newline='') as file:\n",
    "    writer = csv.writer(file)\n",
    "    writer.writerow(header)\n",
    "\n",
    "for result in result_list:\n",
    "    camera = result[0]\n",
    "    result_data = result[1:]\n",
    "    final_data = [(camera, *t) for t in result_data]\n",
    "    with open(output_location, 'a', newline='') as file:\n",
    "        writer = csv.writer(file)\n",
    "        writer.writerows(final_data)"
   ]
  },
  {
   "cell_type": "markdown",
   "metadata": {},
   "source": [
    "# Get the animal stats"
   ]
  },
  {
   "cell_type": "code",
   "execution_count": null,
   "metadata": {},
   "outputs": [],
   "source": [
    "import matplotlib.pyplot as plt\n",
    "import pandas as pd\n",
    "all_data = pd.read_csv(os.path.join(annotation_location, f\"annotation_result.csv\"), sep=',')\n",
    "per_data = pd.read_csv(os.path.join(annotation_location, f\"per_camera_annotation_result.csv\"), sep=',')"
   ]
  },
  {
   "cell_type": "code",
   "execution_count": null,
   "metadata": {},
   "outputs": [],
   "source": [
    "sorted_all_data = all_data.sort_values('Count', axis=0, ascending=False)"
   ]
  },
  {
   "cell_type": "markdown",
   "metadata": {},
   "source": [
    "# Functions"
   ]
  },
  {
   "cell_type": "code",
   "execution_count": null,
   "metadata": {},
   "outputs": [],
   "source": [
    "import numpy as np\n",
    "def prepare_data_for_pie(df):\n",
    "    total_value = df['Count'].sum()\n",
    "\n",
    "    # Compute the percentage for each category\n",
    "    df['Percentage'] = (df['Count'] / total_value) * 100\n",
    "\n",
    "    # Separate categories into two groups: \"rest\" and others\n",
    "    rest = df[df['Percentage'] <= 2].copy()  # Categories below 1.5%\n",
    "    others = df[df['Percentage'] > 2].copy()  # Categories above or equal to 1.5%\n",
    "\n",
    "    # Aggregate \"rest\" categories into a single entry\n",
    "    if not rest.empty:\n",
    "        rest_value = rest['Count'].sum()\n",
    "        rest_category = pd.DataFrame({'Animal': [f'rest'], 'Count': [rest_value]})\n",
    "        final_df = pd.concat([others, rest_category], ignore_index=True)\n",
    "    else:\n",
    "        final_df = others  # No \"rest\" category needed if all values >= 1.5%\n",
    "\n",
    "    return final_df\n",
    "\n",
    "def make_pie_chart(df, title, file_name):\n",
    "    df = df.copy()\n",
    "    df = prepare_data_for_pie(df)\n",
    "    \n",
    "    # Plot the pie chart\n",
    "    plt.figure(figsize=(8, 8))\n",
    "    wedges, texts, autotexts = plt.pie(\n",
    "        df['Count'], \n",
    "        labels=df['Animal'], \n",
    "        autopct='%1.1f%%', \n",
    "        startangle=90, \n",
    "        pctdistance=0.85, \n",
    "        explode=[0.1] * len(df)\n",
    "    )\n",
    "\n",
    "    plt.title(title)\n",
    "    plt.axis('equal')  # Equal aspect ratio ensures that pie is drawn as a circle.\n",
    "    plt.savefig(os.path.join('results', file_name), dpi=300, bbox_inches='tight')\n",
    "    plt.show()"
   ]
  },
  {
   "cell_type": "code",
   "execution_count": null,
   "metadata": {},
   "outputs": [],
   "source": [
    "def make_list(df, file_name):\n",
    "    # Create a matplotlib figure and axis\n",
    "    int(df.shape[0]/6)+1\n",
    "    fig, ax = plt.subplots(figsize=(7, round(df.shape[0]/6)))  # Adjust size as needed\n",
    "    ax.axis('tight')  # Remove axes\n",
    "    ax.axis('off')    # Hide axes\n",
    "\n",
    "    # Create the table in the axis\n",
    "    try:\n",
    "        table = ax.table(\n",
    "            cellText=df.values,\n",
    "            colLabels=df.columns,\n",
    "            cellLoc='center',\n",
    "            loc='center'\n",
    "        )\n",
    "    except IndexError:\n",
    "        return\n",
    "\n",
    "    # Alternate row colors\n",
    "    colors = ['lightgrey', 'darkgrey']  # Define alternating colors\n",
    "    for (row, col), cell in table.get_celld().items():\n",
    "        if row == 0:  # Header row\n",
    "            cell.set_text_props(weight='bold')  # Make headers bold\n",
    "            cell.set_facecolor('grey')         # Set header background color\n",
    "        else:\n",
    "            cell.set_facecolor(colors[(row - 1) % 2])  # Alternate row colors\n",
    "\n",
    "    # Adjust the layout to ensure the title doesn't overlap with the table\n",
    "    plt.subplots_adjust(top=0.85)  # Adjust space between the title and the table\n",
    "\n",
    "    plt.savefig(os.path.join('results', file_name), dpi=300, bbox_inches='tight')\n",
    "    # Display the table\n",
    "    plt.show()"
   ]
  },
  {
   "cell_type": "code",
   "execution_count": null,
   "metadata": {},
   "outputs": [],
   "source": [
    "def make_horizontal_bar(df, file_name, multiple=False, camera=None, y_label='Animal'):\n",
    "    if not multiple:\n",
    "        plt.figure(figsize=(12.5, 10))\n",
    "        plt.barh(df[y_label], df['Count'], color='orange')\n",
    "\n",
    "        if camera is None:\n",
    "            plt.title(\"All animals counted on all camera's\\n- Count more than 0\")\n",
    "        elif y_label == 'Camera':\n",
    "            plt.title == f\"All {camera} on camera's\"\n",
    "        else:\n",
    "            plt.title(f\"All animals counted on camera: {camera}\\n- Count more than 0\")\n",
    "        plt.xlabel('Count', fontsize=12)\n",
    "        plt.ylabel(y_label, fontsize=12)\n",
    "        plt.savefig(os.path.join('results', file_name), dpi=300, bbox_inches='tight')\n",
    "        plt.show()\n",
    "    else:\n",
    "        cameras = list(set(df['Camera']))\n",
    "        for camera in cameras:\n",
    "            temp_df = df[df['Camera'] == camera]\n",
    "            temp_non_df = temp_df[temp_df['Count'] == 0]\n",
    "            temp_df = temp_df[temp_df['Count'] > 0]\n",
    "\n",
    "            make_horizontal_bar(temp_df, f'hbar_{camera}.png', camera=camera)\n",
    "            make_list(temp_df, f'spotted_{camera}.png')\n",
    "            make_list(temp_non_df, f'not_spotted_{camera}.png')\n",
    "            make_pie_chart(temp_df, f'Pie chart of all animals on camera {camera}', f'pie_{camera}.png')"
   ]
  },
  {
   "cell_type": "code",
   "execution_count": null,
   "metadata": {},
   "outputs": [],
   "source": [
    "def make_bar(df, file_name, camera=None, y_label='Animal', x_label='Count'):\n",
    "    plt.figure(figsize=(7, 5))\n",
    "    plt.bar(df[x_label], df[y_label], color='orange')\n",
    "\n",
    "    if camera is None:\n",
    "        plt.title(\"All animals counted on all camera's\\n- Count more than 0\")\n",
    "    elif y_label == 'Count':\n",
    "        plt.title(f\"All {camera} on camera's\")\n",
    "    else:\n",
    "        plt.title(f\"All animals counted on camera: {camera}\\n- Count more than 0\")\n",
    "    plt.xlabel(x_label, fontsize=12)\n",
    "    plt.ylabel(y_label, fontsize=12)\n",
    "    plt.savefig(os.path.join('results', file_name), dpi=300, bbox_inches='tight')\n",
    "    plt.show()"
   ]
  },
  {
   "cell_type": "markdown",
   "metadata": {},
   "source": [
    "# All animals"
   ]
  },
  {
   "cell_type": "code",
   "execution_count": null,
   "metadata": {},
   "outputs": [],
   "source": [
    "make_horizontal_bar(sorted_all_data[sorted_all_data['Count'] > 0], 'hbar_all.png')"
   ]
  },
  {
   "cell_type": "markdown",
   "metadata": {},
   "source": [
    "### All spoted animals"
   ]
  },
  {
   "cell_type": "code",
   "execution_count": null,
   "metadata": {},
   "outputs": [],
   "source": [
    "spotted = sorted_all_data[sorted_all_data['Count'] > 0]"
   ]
  },
  {
   "cell_type": "code",
   "execution_count": null,
   "metadata": {},
   "outputs": [],
   "source": [
    "make_list(spotted, 'spotted_all.png')"
   ]
  },
  {
   "cell_type": "markdown",
   "metadata": {},
   "source": [
    "### All not spoted animals"
   ]
  },
  {
   "cell_type": "code",
   "execution_count": null,
   "metadata": {},
   "outputs": [],
   "source": [
    "not_spotted = sorted_all_data[sorted_all_data['Count'] == 0]"
   ]
  },
  {
   "cell_type": "code",
   "execution_count": null,
   "metadata": {},
   "outputs": [],
   "source": [
    "make_list(not_spotted, 'not_spotted_all.png')"
   ]
  },
  {
   "cell_type": "code",
   "execution_count": null,
   "metadata": {},
   "outputs": [],
   "source": [
    "make_pie_chart(spotted, 'Pie chart of all animals', 'pie_all.png')"
   ]
  }
 ],
 "metadata": {
  "kernelspec": {
   "display_name": "Python 3",
   "language": "python",
   "name": "python3"
  },
  "language_info": {
   "codemirror_mode": {
    "name": "ipython",
    "version": 3
   },
   "file_extension": ".py",
   "mimetype": "text/x-python",
   "name": "python",
   "nbconvert_exporter": "python",
   "pygments_lexer": "ipython3",
   "version": "3.11.9"
  }
 },
 "nbformat": 4,
 "nbformat_minor": 2
}
