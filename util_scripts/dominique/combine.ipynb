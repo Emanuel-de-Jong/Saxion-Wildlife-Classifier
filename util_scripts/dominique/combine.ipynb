{
 "cells": [
  {
   "cell_type": "markdown",
   "metadata": {},
   "source": [
    "# Combine all coco files in a directory into 1 coco file"
   ]
  },
  {
   "cell_type": "code",
   "execution_count": null,
   "metadata": {},
   "outputs": [],
   "source": [
    "import os\n",
    "import json\n",
    "\n",
    "base_dir = os.path.join('combined')\n",
    "\n",
    "coco_base_str = ''\n",
    "\n",
    "licenses_part = None\n",
    "info_part = None\n",
    "categories_part = None\n",
    "annotation_part = []\n",
    "image_part = []\n",
    "\n",
    "\n",
    "file_names = list(os.listdir(base_dir))\n",
    "highest_id = 0\n",
    "highest_annotation_id = 0\n",
    "count = 0\n",
    "print(f\"Total files: {len(file_names)}\")\n",
    "while count < len(file_names):\n",
    "    file_path = os.path.join(base_dir, file_names[count])\n",
    "    if file_path == os.path.join(base_dir, \"coco_annotations_combined.json\"):\n",
    "        count += 1\n",
    "        continue\n",
    "    f = open(file_path)\n",
    "    json_data = json.load(f)\n",
    "\n",
    "    print(f'Current file: {file_path}')\n",
    "    if count == 0:\n",
    "        licenses_part = json_data['licenses']\n",
    "        info_part = json_data['info']\n",
    "        categories_part = json_data['categories']\n",
    "    \n",
    "    for annotation in json_data['annotations']:\n",
    "        annotation['image_id'] += highest_id\n",
    "        annotation['id'] += highest_annotation_id\n",
    "    annotation_part = annotation_part + json_data['annotations']\n",
    "    \n",
    "    for image in json_data['images']:\n",
    "        image['id'] += highest_id\n",
    "    image_part = image_part + json_data['images']\n",
    "\n",
    "    highest_id = max(image[\"id\"] for image in json_data[\"images\"])\n",
    "    highest_annotation_id = max(annotation['id'] for annotation in json_data[\"annotations\"])\n",
    "    print(f'New highest id: {highest_id}')\n",
    "    count += 1\n",
    "\n",
    "print(f\"Counted: {count}\")\n",
    "print(\"Prepareing data\")\n",
    "data = {\n",
    "    \"licenses\": licenses_part,\n",
    "    \"info\": info_part,\n",
    "    \"categories\": categories_part,\n",
    "    \"images\": image_part,\n",
    "    \"annotations\": annotation_part\n",
    "}\n",
    "\n",
    "print('Data ready to dump!')\n",
    "with open(os.path.join(base_dir, \"coco_annotations_combined.json\"), \"w\") as file:\n",
    "    json.dump(data, file, indent=4)\n",
    "print('Data has been dumped')"
   ]
  },
  {
   "cell_type": "markdown",
   "metadata": {},
   "source": [
    "# Rename image names\n",
    "All images in a given folder will be renamed to have the camera and leging in its name.  \n",
    "So `SYFW1234.JPG` from leging `2` camera `AWC07` will be -> `SYFW_AWC07_2_1234.JPG`"
   ]
  },
  {
   "cell_type": "code",
   "execution_count": null,
   "metadata": {},
   "outputs": [],
   "source": [
    "import os\n",
    "\n",
    "parent_dir = os.path.join('Animals') # Please provide a path to the folder, where the images need to be renamed\n",
    "\n",
    "camera_dir = os.listdir(parent_dir)\n",
    "\n",
    "for camera in camera_dir:\n",
    "    leging_dir = os.listdir(os.path.join(parent_dir, camera))\n",
    "    for leging in leging_dir:\n",
    "        image_dir = os.listdir(os.path.join(parent_dir, camera, leging))\n",
    "        leging_nmbr = leging[len(leging)-1:]\n",
    "        for image in image_dir:\n",
    "            first_part = image[:4]\n",
    "            second_part = image[4:]\n",
    "            new_name = f'{first_part}_{camera}_{leging_nmbr}_{second_part}'\n",
    "            os.rename(os.path.join(parent_dir, camera, leging, image), os.path.join(parent_dir, camera, leging, new_name))"
   ]
  }
 ],
 "metadata": {
  "kernelspec": {
   "display_name": "Python 3",
   "language": "python",
   "name": "python3"
  },
  "language_info": {
   "codemirror_mode": {
    "name": "ipython",
    "version": 3
   },
   "file_extension": ".py",
   "mimetype": "text/x-python",
   "name": "python",
   "nbconvert_exporter": "python",
   "pygments_lexer": "ipython3",
   "version": "3.11.9"
  }
 },
 "nbformat": 4,
 "nbformat_minor": 2
}
